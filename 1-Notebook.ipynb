{
 "cells": [
  {
   "cell_type": "markdown",
   "id": "f8b95693",
   "metadata": {},
   "source": [
    "# Data Tools and Ecosystems "
   ]
  },
  {
   "cell_type": "markdown",
   "id": "f2ae1b5f",
   "metadata": {},
   "source": [
    "In this notebook Data Tools and Ecosystems are summmarized "
   ]
  },
  {
   "cell_type": "markdown",
   "id": "0721fe7c",
   "metadata": {},
   "source": [
    "Some common data science languages used are: \n",
    "1. Python \n",
    "2. R Language\n",
    "3. Julia \n",
    "4. C++"
   ]
  },
  {
   "cell_type": "markdown",
   "id": "f985eb99",
   "metadata": {},
   "source": [
    "Some of the commonly used data libraries are:\n",
    "1. Scientic Computing Libraries in Python\n",
    "2. Visualizations Libraries in Pyhton\n",
    "3. High level Machine Learning and Deep Learning Libraries\n",
    "4. Deep Learning Libraries in Python "
   ]
  },
  {
   "cell_type": "markdown",
   "id": "2262809f",
   "metadata": {},
   "source": [
    "|Data Science Tools|\n",
    "|-------------------|\n",
    "|Jupyter Notebooks|\n",
    "|Zeppelin Notebooks|\n",
    "|R Studios| "
   ]
  },
  {
   "cell_type": "markdown",
   "id": "6550c8c2",
   "metadata": {},
   "source": [
    "### Below there are a few examples of evaluating arithmetic expressions in Python"
   ]
  },
  {
   "cell_type": "markdown",
   "id": "e9b9ac54",
   "metadata": {},
   "source": [
    "This is a simple arithmetic expression to multiply and then add intengers"
   ]
  },
  {
   "cell_type": "code",
   "execution_count": 1,
   "id": "c12f84af",
   "metadata": {},
   "outputs": [
    {
     "data": {
      "text/plain": [
       "17"
      ]
     },
     "execution_count": 1,
     "metadata": {},
     "output_type": "execute_result"
    }
   ],
   "source": [
    "(3*4)+5"
   ]
  },
  {
   "cell_type": "markdown",
   "id": "ddad8404",
   "metadata": {},
   "source": [
    "This expression will convert 200 minutes in hours by divinding the amount o minutes by 60 to obtain the hours"
   ]
  },
  {
   "cell_type": "code",
   "execution_count": 2,
   "id": "a672d5d4",
   "metadata": {},
   "outputs": [
    {
     "data": {
      "text/plain": [
       "3.3333333333333335"
      ]
     },
     "execution_count": 2,
     "metadata": {},
     "output_type": "execute_result"
    }
   ],
   "source": [
    "200/60"
   ]
  },
  {
   "cell_type": "markdown",
   "id": "f1996279",
   "metadata": {},
   "source": [
    "# Objectives :"
   ]
  },
  {
   "cell_type": "markdown",
   "id": "46af43d2",
   "metadata": {},
   "source": [
    "- List of Popular or Common Languages for Data Science\n",
    "- List of Popular Data Science Libraries\n",
    "- List of Open Source Developments Environments used in Data Science\n",
    "- Arithemtic Expressions using Python"
   ]
  },
  {
   "cell_type": "markdown",
   "id": "3e75a2e3",
   "metadata": {},
   "source": [
    "## Author's Name"
   ]
  },
  {
   "cell_type": "markdown",
   "id": "c7df780d",
   "metadata": {},
   "source": [
    "Edson Gama"
   ]
  },
  {
   "cell_type": "code",
   "execution_count": null,
   "id": "b2a7c627",
   "metadata": {},
   "outputs": [],
   "source": []
  }
 ],
 "metadata": {
  "kernelspec": {
   "display_name": "Python 3 (ipykernel)",
   "language": "python",
   "name": "python3"
  },
  "language_info": {
   "codemirror_mode": {
    "name": "ipython",
    "version": 3
   },
   "file_extension": ".py",
   "mimetype": "text/x-python",
   "name": "python",
   "nbconvert_exporter": "python",
   "pygments_lexer": "ipython3",
   "version": "3.9.13"
  }
 },
 "nbformat": 4,
 "nbformat_minor": 5
}
